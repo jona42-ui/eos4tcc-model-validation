{
 "cells": [
  {
   "cell_type": "markdown",
   "metadata": {},
   "source": [
    "# Model Reproducibility\n",
    "\n",
    "In this notebook I will reproduce one of the examples from the publication associated to the model and make sure the Ersilia Model Hub implementation is giving the same results.\n",
    "The test is explained in the ReadMe File"
   ]
  },
  {
   "cell_type": "markdown",
   "metadata": {},
   "source": [
    "# Model Reproducibility setup steps\n",
    "# Findings\n",
    "From the publication, it seems like the authors have evaluated the performance of the model, BayeshERG, on various datasets and compared it with other models using metrics such as sensitivity (SEN), specificity (SPE), Matthews correlation coefficient (MCC), balanced accuracy (BAC), and F1 score.\n",
    "\n",
    "# Focus for this Task\n",
    "I will focus on reproducing the performance evaluation of the BayeshERG model on the external test set 1(EX1.csv). This test dataset seems to be a significant part of their evaluation, and we are choosing  balanced accuracy (BAC) for reproducibility.\n",
    "\n",
    "\n"
   ]
  },
  {
   "cell_type": "code",
   "execution_count": 2,
   "metadata": {},
   "outputs": [
    {
     "name": "stderr",
     "output_type": "stream",
     "text": [
      "\n",
      "CondaError: Run 'conda init' before 'conda activate'\n",
      "\n"
     ]
    },
    {
     "data": {
      "text/plain": [
       "256"
      ]
     },
     "execution_count": 2,
     "metadata": {},
     "output_type": "execute_result"
    }
   ],
   "source": [
    "# In this code block I will import the necessary packages and specify the paths to relevant folders\n",
    "# imports\n",
    "import os\n",
    "\n",
    "# folders\n",
    "# Get the current working directory\n",
    "current_dir = os.getcwd()\n",
    "\n",
    "# Navigate to the parent directory (to access the model's directory)\n",
    "parent_dir = os.path.dirname(current_dir)\n",
    "\n",
    "# Path to the BayeshERG model directory\n",
    "model_dir = os.path.join(parent_dir, 'models', 'BayeshERG')\n",
    "\n",
    "# Path to the environment.yml file\n",
    "env_file_path = os.path.join(model_dir, 'environment.yml')\n",
    "\n",
    "# Path to the EX1.csv file\n",
    "data_dir = os.path.join(parent_dir, 'data')\n",
    "EX1_csv_path = os.path.join(data_dir, 'EX1.csv')\n",
    "\n",
    "# Command to create the environment\n",
    "create_env_cmd = f\"conda env create --name BayeshERG --file={env_file_path}\"\n",
    "\n",
    "# Command to activate the environment\n",
    "\n",
    "activate_env_cmd = \"conda activate BayeshERG\"\n",
    "\n",
    "# Execute the commands\n",
    "#os.system(create_env_cmd)\n",
    "os.system(activate_env_cmd)\n",
    "\n",
    "\n",
    "\n",
    "\n"
   ]
  },
  {
   "cell_type": "code",
   "execution_count": null,
   "metadata": {},
   "outputs": [],
   "source": [
    "# In this codeblock I will load the predictions obtained from the original author's code implementation from the /data folder"
   ]
  },
  {
   "cell_type": "code",
   "execution_count": null,
   "metadata": {},
   "outputs": [],
   "source": [
    "# In this codeblock I will recreate the figure or value I am to reproduce, for example an AUROC"
   ]
  },
  {
   "cell_type": "code",
   "execution_count": null,
   "metadata": {},
   "outputs": [],
   "source": [
    "# In this codeblock I will load the predictions obtained from the Ersilia Model Hub implementation saved in the /data folder"
   ]
  },
  {
   "cell_type": "code",
   "execution_count": null,
   "metadata": {},
   "outputs": [],
   "source": [
    "# In this codeblock I will compare the orginal implementation vs the EMH result"
   ]
  }
 ],
 "metadata": {
  "kernelspec": {
   "display_name": "Python 3 (ipykernel)",
   "language": "python",
   "name": "python3"
  },
  "language_info": {
   "codemirror_mode": {
    "name": "ipython",
    "version": 3
   },
   "file_extension": ".py",
   "mimetype": "text/x-python",
   "name": "python",
   "nbconvert_exporter": "python",
   "pygments_lexer": "ipython3",
   "version": "3.12.2"
  }
 },
 "nbformat": 4,
 "nbformat_minor": 4
}
